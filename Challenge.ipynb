{
 "cells": [
  {
   "cell_type": "code",
   "execution_count": 1,
   "metadata": {},
   "outputs": [
    {
     "name": "stdout",
     "output_type": "stream",
     "text": [
      "2.1.0\n"
     ]
    }
   ],
   "source": [
    "import os\n",
    "from pathlib import Path\n",
    "from functools import partial\n",
    "import numpy as np\n",
    "import pandas as pd\n",
    "import matplotlib.pyplot as plt\n",
    "import cv2\n",
    "from PIL import Image\n",
    "from sklearn.model_selection import train_test_split\n",
    "import tensorflow as tf\n",
    "from tensorflow.keras.models import Sequential, Model\n",
    "from tensorflow.keras.layers import Dense, Dropout, Activation, Flatten, \\\n",
    "    Conv2D, MaxPooling2D\n",
    "from tensorflow.keras.applications.vgg16 import VGG16, preprocess_input\n",
    "\n",
    "# Create necessary dirs\n",
    "PATH_MODEL = Path('model')\n",
    "PATH_MODEL.mkdir(exist_ok=True)\n",
    "PREDS_PATH = Path('predictions')\n",
    "PREDS_PATH.mkdir(exist_ok=True)\n",
    "\n",
    "print(tf.__version__)"
   ]
  },
  {
   "cell_type": "code",
   "execution_count": 2,
   "metadata": {},
   "outputs": [
    {
     "name": "stdout",
     "output_type": "stream",
     "text": [
      "0-10049200_1891-09-16_1958.jpg\r\n",
      "0-10110600_1985-09-17_2012.jpg\r\n",
      "0-10126400_1964-07-07_2010.jpg\r\n",
      "0-1013900_1917-10-15_1960.jpg\r\n",
      "0-10166400_1960-03-12_2008.jpg\r\n",
      "0-102100_1970-10-09_2008.jpg\r\n",
      "0-1024100_1982-06-07_2011.jpg\r\n",
      "0-10292500_1984-03-26_2009.jpg\r\n",
      "0-1035700_1945-11-27_2013.jpg\r\n",
      "0-10416800_1907-01-08_1967.jpg\r\n",
      "0-10525500_1916-02-14_1951.jpg\r\n",
      "0-1054800_1947-09-19_2011.jpg\r\n",
      "0-10623500_1931-09-25_1956.jpg\r\n",
      "0-10726900_1991-02-03_2010.jpg\r\n",
      "0-10870400_1971-06-28_2013.jpg\r\n",
      "0-10898800_1951-06-03_1950.jpg\r\n",
      "0-10967900_1956-03-18_2007.jpg\r\n",
      "0-10996600_1988-06-15_2008.jpg\r\n",
      "0-11035100_1984-08-03_2009.jpg\r\n",
      "0-1121500_1976-07-31_2007.jpg\r\n",
      "ls: write error: Broken pipe\r\n"
     ]
    }
   ],
   "source": [
    "!ls data/train.rotfaces/train | head -n 20"
   ]
  },
  {
   "cell_type": "code",
   "execution_count": 3,
   "metadata": {},
   "outputs": [
    {
     "data": {
      "text/html": [
       "<div>\n",
       "<style scoped>\n",
       "    .dataframe tbody tr th:only-of-type {\n",
       "        vertical-align: middle;\n",
       "    }\n",
       "\n",
       "    .dataframe tbody tr th {\n",
       "        vertical-align: top;\n",
       "    }\n",
       "\n",
       "    .dataframe thead th {\n",
       "        text-align: right;\n",
       "    }\n",
       "</style>\n",
       "<table border=\"1\" class=\"dataframe\">\n",
       "  <thead>\n",
       "    <tr style=\"text-align: right;\">\n",
       "      <th></th>\n",
       "      <th>fn</th>\n",
       "      <th>label</th>\n",
       "    </tr>\n",
       "  </thead>\n",
       "  <tbody>\n",
       "    <tr>\n",
       "      <th>0</th>\n",
       "      <td>0-10049200_1891-09-16_1958.jpg</td>\n",
       "      <td>rotated_left</td>\n",
       "    </tr>\n",
       "    <tr>\n",
       "      <th>1</th>\n",
       "      <td>0-10110600_1985-09-17_2012.jpg</td>\n",
       "      <td>rotated_left</td>\n",
       "    </tr>\n",
       "    <tr>\n",
       "      <th>2</th>\n",
       "      <td>0-10126400_1964-07-07_2010.jpg</td>\n",
       "      <td>upright</td>\n",
       "    </tr>\n",
       "    <tr>\n",
       "      <th>3</th>\n",
       "      <td>0-1013900_1917-10-15_1960.jpg</td>\n",
       "      <td>rotated_right</td>\n",
       "    </tr>\n",
       "    <tr>\n",
       "      <th>4</th>\n",
       "      <td>0-10166400_1960-03-12_2008.jpg</td>\n",
       "      <td>upside_down</td>\n",
       "    </tr>\n",
       "  </tbody>\n",
       "</table>\n",
       "</div>"
      ],
      "text/plain": [
       "                               fn          label\n",
       "0  0-10049200_1891-09-16_1958.jpg   rotated_left\n",
       "1  0-10110600_1985-09-17_2012.jpg   rotated_left\n",
       "2  0-10126400_1964-07-07_2010.jpg        upright\n",
       "3   0-1013900_1917-10-15_1960.jpg  rotated_right\n",
       "4  0-10166400_1960-03-12_2008.jpg    upside_down"
      ]
     },
     "execution_count": 3,
     "metadata": {},
     "output_type": "execute_result"
    }
   ],
   "source": [
    "img_label = pd.read_csv('data/train.rotfaces/train.truth.csv')\n",
    "img_label.head()"
   ]
  },
  {
   "cell_type": "code",
   "execution_count": 4,
   "metadata": {},
   "outputs": [
    {
     "data": {
      "text/plain": [
       "{'rotated_left': 0, 'upright': 1, 'rotated_right': 2, 'upside_down': 3}"
      ]
     },
     "execution_count": 4,
     "metadata": {},
     "output_type": "execute_result"
    }
   ],
   "source": [
    "label_encoding = {label: enc for enc, label in enumerate(img_label.label.unique())}\n",
    "label_encoding"
   ]
  },
  {
   "cell_type": "code",
   "execution_count": 5,
   "metadata": {},
   "outputs": [],
   "source": [
    "TRAIN_PATH = Path('data/train.rotfaces/')\n",
    "TRAIN_PATH_IMGS = TRAIN_PATH / 'train'"
   ]
  },
  {
   "cell_type": "code",
   "execution_count": 6,
   "metadata": {},
   "outputs": [
    {
     "data": {
      "image/png": "[encoded data removed]",
      "text/plain": [
       "<Figure size 432x288 with 1 Axes>"
      ]
     },
     "metadata": {
      "needs_background": "light"
     },
     "output_type": "display_data"
    }
   ],
   "source": [
    "# Sample and show one random image\n",
    "rand_img = np.random.choice(np.array(os.listdir(TRAIN_PATH_IMGS)))\n",
    "label = img_label.query('fn == @rand_img').label.values[0]\n",
    "rand_img = cv2.imread(str(TRAIN_PATH_IMGS / rand_img))\n",
    "rand_img = cv2.cvtColor(rand_img, cv2.COLOR_BGR2RGB)\n",
    "plt.imshow(rand_img)\n",
    "plt.title(f'Image label: {label}')\n",
    "plt.axis('off')\n",
    "plt.show()"
   ]
  },
  {
   "cell_type": "code",
   "execution_count": 7,
   "metadata": {},
   "outputs": [
    {
     "data": {
      "text/html": [
       "<div>\n",
       "<style scoped>\n",
       "    .dataframe tbody tr th:only-of-type {\n",
       "        vertical-align: middle;\n",
       "    }\n",
       "\n",
       "    .dataframe tbody tr th {\n",
       "        vertical-align: top;\n",
       "    }\n",
       "\n",
       "    .dataframe thead th {\n",
       "        text-align: right;\n",
       "    }\n",
       "</style>\n",
       "<table border=\"1\" class=\"dataframe\">\n",
       "  <thead>\n",
       "    <tr style=\"text-align: right;\">\n",
       "      <th></th>\n",
       "      <th>fn</th>\n",
       "      <th>label</th>\n",
       "    </tr>\n",
       "  </thead>\n",
       "  <tbody>\n",
       "    <tr>\n",
       "      <th>9625</th>\n",
       "      <td>17-5164117_1981-01-21_2007.jpg</td>\n",
       "      <td>upside_down</td>\n",
       "    </tr>\n",
       "    <tr>\n",
       "      <th>48032</th>\n",
       "      <td>88-26798288_1987-04-10_2009.jpg</td>\n",
       "      <td>rotated_left</td>\n",
       "    </tr>\n",
       "    <tr>\n",
       "      <th>22144</th>\n",
       "      <td>40-5612440_1975-04-02_2014.jpg</td>\n",
       "      <td>rotated_left</td>\n",
       "    </tr>\n",
       "    <tr>\n",
       "      <th>42666</th>\n",
       "      <td>78-45505878_1987-06-10_2014.jpg</td>\n",
       "      <td>upside_down</td>\n",
       "    </tr>\n",
       "    <tr>\n",
       "      <th>44160</th>\n",
       "      <td>81-29596781_1948-04-06_2009.jpg</td>\n",
       "      <td>rotated_left</td>\n",
       "    </tr>\n",
       "  </tbody>\n",
       "</table>\n",
       "</div>"
      ],
      "text/plain": [
       "                                    fn         label\n",
       "9625    17-5164117_1981-01-21_2007.jpg   upside_down\n",
       "48032  88-26798288_1987-04-10_2009.jpg  rotated_left\n",
       "22144   40-5612440_1975-04-02_2014.jpg  rotated_left\n",
       "42666  78-45505878_1987-06-10_2014.jpg   upside_down\n",
       "44160  81-29596781_1948-04-06_2009.jpg  rotated_left"
      ]
     },
     "execution_count": 7,
     "metadata": {},
     "output_type": "execute_result"
    }
   ],
   "source": [
    "train, val = train_test_split(img_label, test_size=.3, shuffle=True, random_state=10)\n",
    "train.head()"
   ]
  },
  {
   "cell_type": "code",
   "execution_count": 8,
   "metadata": {},
   "outputs": [],
   "source": [
    "def img_generator(dataset):\n",
    "    for idx, items in dataset.iterrows():\n",
    "        img = cv2.imread(str(TRAIN_PATH_IMGS / items['fn']))\n",
    "        img = cv2.cvtColor(img, cv2.COLOR_BGR2RGB)\n",
    "        img = img / 255.0\n",
    "#         img = preprocess_input(img)\n",
    "        label = label_encoding[items['label']]\n",
    "        yield img, label"
   ]
  },
  {
   "cell_type": "code",
   "execution_count": 9,
   "metadata": {},
   "outputs": [
    {
     "data": {
      "text/plain": [
       "<TakeDataset shapes: ((200, 64, 64, 3), (200,)), types: (tf.float64, tf.int32)>"
      ]
     },
     "execution_count": 9,
     "metadata": {},
     "output_type": "execute_result"
    }
   ],
   "source": [
    "BATCH_SIZE = 200\n",
    "STEPS_PER_EPOCH = train.shape[0] // BATCH_SIZE\n",
    "STEPS_VAL = val.shape[0] // BATCH_SIZE\n",
    "train_gen = partial(img_generator, train)\n",
    "val_gen = partial(img_generator, val)\n",
    "train_ds = tf.data.Dataset.from_generator(train_gen,\n",
    "                                            (tf.float64, tf.int32),\n",
    "                                            (tf.TensorShape([64, 64, 3]), tf.TensorShape([])))\n",
    "val_ds = tf.data.Dataset.from_generator(val_gen,\n",
    "                                         (tf.float64, tf.int32),\n",
    "                                         (tf.TensorShape([64, 64, 3]), tf.TensorShape([])))\n",
    "\n",
    "\n",
    "train_ds = train_ds.batch(BATCH_SIZE, drop_remainder=True)\n",
    "val_ds = val_ds.batch(BATCH_SIZE, drop_remainder=True)\n",
    "\n",
    "train_ds = train_ds.repeat()\n",
    "val_ds = val_ds.repeat()\n",
    "\n",
    "train_ds.take(1)"
   ]
  },
  {
   "cell_type": "code",
   "execution_count": 10,
   "metadata": {},
   "outputs": [],
   "source": [
    "# CIFAR10 example model\n",
    "model = Sequential()\n",
    "model.add(Conv2D(32, (3, 3), padding='same',\n",
    "                 input_shape=(64, 64, 3)))\n",
    "model.add(Activation('relu'))\n",
    "model.add(Conv2D(32, (3, 3)))\n",
    "model.add(Activation('relu'))\n",
    "model.add(MaxPooling2D(pool_size=(2, 2)))\n",
    "model.add(Dropout(0.25))\n",
    "\n",
    "model.add(Conv2D(64, (3, 3), padding='same'))\n",
    "model.add(Activation('relu'))\n",
    "model.add(Conv2D(64, (3, 3)))\n",
    "model.add(Activation('relu'))\n",
    "model.add(MaxPooling2D(pool_size=(2, 2)))\n",
    "model.add(Dropout(0.25))\n",
    "\n",
    "model.add(Flatten())\n",
    "model.add(Dense(512))\n",
    "model.add(Activation('relu'))\n",
    "model.add(Dropout(0.5))\n",
    "model.add(Dense(len(label_encoding.values())))\n",
    "model.add(Activation('softmax'))"
   ]
  },
  {
   "cell_type": "code",
   "execution_count": 11,
   "metadata": {},
   "outputs": [],
   "source": [
    "# feat_map = VGG16(\n",
    "#     input_shape=(64, 64, 3),\n",
    "#     weights='imagenet',\n",
    "#     include_top=False)\n",
    "# feat_map.trainable = False\n",
    "# x = Flatten()(feat_map.output)\n",
    "# x = Dense(128)(x)\n",
    "# x = Activation('relu')(x)\n",
    "# x = Dropout(0.25)(x)\n",
    "# x = Dense(256)(x)\n",
    "# x = Activation('relu')(x)\n",
    "# # x = Dropout(0.5)(x)\n",
    "# x = Dropout(0.25)(x)\n",
    "# x = Dense(512)(x)\n",
    "# x = Activation('relu')(x)\n",
    "# x = Dropout(0.5)(x)\n",
    "# x = Dense(len(label_encoding.values()))(x)\n",
    "# x = Activation('softmax')(x)\n",
    "\n",
    "# model = Model(feat_map.input, x)"
   ]
  },
  {
   "cell_type": "code",
   "execution_count": 12,
   "metadata": {},
   "outputs": [],
   "source": [
    "# RMSprop optimizer\n",
    "opt = tf.keras.optimizers.RMSprop(learning_rate=0.0001, decay=1e-6)\n",
    "\n",
    "# Compile\n",
    "model.compile(loss='sparse_categorical_crossentropy',\n",
    "              optimizer=opt,\n",
    "              metrics=['accuracy'])"
   ]
  },
  {
   "cell_type": "code",
   "execution_count": 13,
   "metadata": {},
   "outputs": [
    {
     "name": "stdout",
     "output_type": "stream",
     "text": [
      "Model: \"sequential\"\n",
      "_________________________________________________________________\n",
      "Layer (type)                 Output Shape              Param #   \n",
      "=================================================================\n",
      "conv2d (Conv2D)              (None, 64, 64, 32)        896       \n",
      "_________________________________________________________________\n",
      "activation (Activation)      (None, 64, 64, 32)        0         \n",
      "_________________________________________________________________\n",
      "conv2d_1 (Conv2D)            (None, 62, 62, 32)        9248      \n",
      "_________________________________________________________________\n",
      "activation_1 (Activation)    (None, 62, 62, 32)        0         \n",
      "_________________________________________________________________\n",
      "max_pooling2d (MaxPooling2D) (None, 31, 31, 32)        0         \n",
      "_________________________________________________________________\n",
      "dropout (Dropout)            (None, 31, 31, 32)        0         \n",
      "_________________________________________________________________\n",
      "conv2d_2 (Conv2D)            (None, 31, 31, 64)        18496     \n",
      "_________________________________________________________________\n",
      "activation_2 (Activation)    (None, 31, 31, 64)        0         \n",
      "_________________________________________________________________\n",
      "conv2d_3 (Conv2D)            (None, 29, 29, 64)        36928     \n",
      "_________________________________________________________________\n",
      "activation_3 (Activation)    (None, 29, 29, 64)        0         \n",
      "_________________________________________________________________\n",
      "max_pooling2d_1 (MaxPooling2 (None, 14, 14, 64)        0         \n",
      "_________________________________________________________________\n",
      "dropout_1 (Dropout)          (None, 14, 14, 64)        0         \n",
      "_________________________________________________________________\n",
      "flatten (Flatten)            (None, 12544)             0         \n",
      "_________________________________________________________________\n",
      "dense (Dense)                (None, 512)               6423040   \n",
      "_________________________________________________________________\n",
      "activation_4 (Activation)    (None, 512)               0         \n",
      "_________________________________________________________________\n",
      "dropout_2 (Dropout)          (None, 512)               0         \n",
      "_________________________________________________________________\n",
      "dense_1 (Dense)              (None, 4)                 2052      \n",
      "_________________________________________________________________\n",
      "activation_5 (Activation)    (None, 4)                 0         \n",
      "=================================================================\n",
      "Total params: 6,490,660\n",
      "Trainable params: 6,490,660\n",
      "Non-trainable params: 0\n",
      "_________________________________________________________________\n"
     ]
    }
   ],
   "source": [
    "model.summary()"
   ]
  },
  {
   "cell_type": "code",
   "execution_count": 14,
   "metadata": {
    "scrolled": true
   },
   "outputs": [],
   "source": [
    "PATH_MODEL_OBJ = PATH_MODEL / 'trained_model'\n",
    "EPOCHS = 5\n",
    "# Fit the model\n",
    "if not PATH_MODEL_OBJ.exists():\n",
    "    model.fit(train_ds,\n",
    "              steps_per_epoch=STEPS_PER_EPOCH,\n",
    "              validation_data=val_ds,\n",
    "              validation_steps=STEPS_VAL,\n",
    "              epochs=EPOCHS)\n",
    "    model.save(str(PATH_MODEL_OBJ))\n",
    "else:\n",
    "    model = tf.keras.models.load_model(str(PATH_MODEL_OBJ))"
   ]
  },
  {
   "cell_type": "code",
   "execution_count": 15,
   "metadata": {},
   "outputs": [],
   "source": [
    "TEST_PATH_IMGS = Path('data/test.rotfaces/test')\n",
    "class model_wrapper:\n",
    "    def __init__(self, model, label_encoding):\n",
    "        self.model = model\n",
    "        self.label_encoding = label_encoding\n",
    "        self.encoding_label = {enc: label for label, enc in self.label_encoding.items()}\n",
    "    def predict(self, path: Path):\n",
    "        path_df = self._get_path_list(path)\n",
    "        img_gen = self._image_gen(path_df, path)\n",
    "        preds = self.model.predict(img_gen)\n",
    "        preds = np.argmax(preds, axis=1)\n",
    "        preds = np.vectorize(self._encoding_to_label)(preds)\n",
    "        pred_df = pd.concat([path_df, pd.Series(preds, name='label')], axis=1)\n",
    "        return pred_df\n",
    "    \n",
    "    def correct_orientations(self, input_dir: Path, output_dir: Path, \n",
    "                             output_fmt='png', output_numpy=False):\n",
    "        pred_df = self.predict(input_dir)\n",
    "        self.correct_orientations_from_df(pred_df, output_dir, \n",
    "                                          output_fmt, output_numpy=output_numpy)\n",
    "        \n",
    "    def correct_orientations_from_df(self, pred_df, input_dir: Path, \n",
    "                                     output_dir: Path, output_fmt='png', output_numpy=False):\n",
    "        inp_img_paths = pred_df['fn'].map(lambda x: input_dir / x).values\n",
    "        \n",
    "        if not output_numpy:\n",
    "            correct_img_func = partial(self.correct_img, output_dir=output_dir, \n",
    "                                   output_fmt=output_fmt)\n",
    "            np.vectorize(correct_img_func)(inp_img_paths, pred_df['label'].values)\n",
    "        else:\n",
    "            correct_img_func = partial(self.correct_img, output_dir=output_dir, \n",
    "                                   output_fmt=output_fmt, output_img=output_numpy)\n",
    "            return np.vectorize(correct_img_func,\n",
    "                               signature='(),()->(h,w,c)')(inp_img_paths, \n",
    "                                                           pred_df['label'].values)\n",
    "        \n",
    "        \n",
    "    def correct_img(self, img_path, distortion, output_dir: Path, output_fmt, output_img=False):\n",
    "        _, img_name = os.path.split(img_path)\n",
    "        img_name = '.'.join([img_name.split('.')[0], output_fmt])\n",
    "        img = Image.open(img_path)\n",
    "        if distortion == 'rotated_left':\n",
    "            correct_img = img.rotate(-90)\n",
    "        elif distortion == 'rotated_right':\n",
    "            correct_img = img.rotate(90)\n",
    "        elif distortion == 'upside_down':\n",
    "            correct_img  = img.transpose(Image.ROTATE_180)\n",
    "        elif distortion == 'upright':\n",
    "            correct_img = img\n",
    "        else:\n",
    "            raise ValueError('Unknown label.')\n",
    "        correct_img.save(output_dir / img_name)\n",
    "        if output_img:\n",
    "            width, height = correct_img.size\n",
    "            return np.array(correct_img.getdata()).reshape(height, width, 3)\n",
    "        \n",
    "        \n",
    "    @staticmethod\n",
    "    def _image_gen(path_df, dir_: Path):\n",
    "        for idx, items in path_df.iterrows():\n",
    "            img = cv2.imread(str(dir_ / items['fn']))\n",
    "            img = cv2.cvtColor(img, cv2.COLOR_BGR2RGB)\n",
    "            img = img / 255.0\n",
    "            yield np.expand_dims(img, axis=0)\n",
    "    @staticmethod\n",
    "    def _get_path_list(path: Path):\n",
    "        path_list = os.listdir(path)\n",
    "        path_df = pd.DataFrame(path_list, columns=['fn'])\n",
    "        return path_df\n",
    "    def _encoding_to_label(self, enc):\n",
    "        return self.encoding_label[enc]\n",
    "        \n",
    "    "
   ]
  },
  {
   "cell_type": "code",
   "execution_count": 16,
   "metadata": {},
   "outputs": [
    {
     "data": {
      "text/plain": [
       "<__main__.model_wrapper at 0x7f534c273950>"
      ]
     },
     "execution_count": 16,
     "metadata": {},
     "output_type": "execute_result"
    }
   ],
   "source": [
    "predictor = model_wrapper(model, label_encoding)\n",
    "predictor"
   ]
  },
  {
   "cell_type": "code",
   "execution_count": 17,
   "metadata": {},
   "outputs": [
    {
     "data": {
      "text/html": [
       "<div>\n",
       "<style scoped>\n",
       "    .dataframe tbody tr th:only-of-type {\n",
       "        vertical-align: middle;\n",
       "    }\n",
       "\n",
       "    .dataframe tbody tr th {\n",
       "        vertical-align: top;\n",
       "    }\n",
       "\n",
       "    .dataframe thead th {\n",
       "        text-align: right;\n",
       "    }\n",
       "</style>\n",
       "<table border=\"1\" class=\"dataframe\">\n",
       "  <thead>\n",
       "    <tr style=\"text-align: right;\">\n",
       "      <th></th>\n",
       "      <th>fn</th>\n",
       "      <th>label</th>\n",
       "    </tr>\n",
       "  </thead>\n",
       "  <tbody>\n",
       "    <tr>\n",
       "      <th>0</th>\n",
       "      <td>94-6717694_1988-04-03_2011.jpg</td>\n",
       "      <td>upright</td>\n",
       "    </tr>\n",
       "    <tr>\n",
       "      <th>1</th>\n",
       "      <td>94-2208994_1916-01-06_1964.jpg</td>\n",
       "      <td>rotated_right</td>\n",
       "    </tr>\n",
       "    <tr>\n",
       "      <th>2</th>\n",
       "      <td>99-513099_1930-09-19_1959.jpg</td>\n",
       "      <td>upside_down</td>\n",
       "    </tr>\n",
       "    <tr>\n",
       "      <th>3</th>\n",
       "      <td>92-33455292_1990-09-08_2013.jpg</td>\n",
       "      <td>upright</td>\n",
       "    </tr>\n",
       "    <tr>\n",
       "      <th>4</th>\n",
       "      <td>91-7294591_1987-12-25_2011.jpg</td>\n",
       "      <td>upright</td>\n",
       "    </tr>\n",
       "  </tbody>\n",
       "</table>\n",
       "</div>"
      ],
      "text/plain": [
       "                                fn          label\n",
       "0   94-6717694_1988-04-03_2011.jpg        upright\n",
       "1   94-2208994_1916-01-06_1964.jpg  rotated_right\n",
       "2    99-513099_1930-09-19_1959.jpg    upside_down\n",
       "3  92-33455292_1990-09-08_2013.jpg        upright\n",
       "4   91-7294591_1987-12-25_2011.jpg        upright"
      ]
     },
     "execution_count": 17,
     "metadata": {},
     "output_type": "execute_result"
    }
   ],
   "source": [
    "PREDS_PATH_CSV = PREDS_PATH / 'preds.csv'\n",
    "if not PREDS_PATH_CSV.exists():\n",
    "    pred_df = predictor.predict(TEST_PATH_IMGS)\n",
    "    pred_df.to_csv(PREDS_PATH_CSV, index=False)\n",
    "else:\n",
    "    pred_df = pd.read_csv(PREDS_PATH_CSV)\n",
    "pred_df.head()"
   ]
  },
  {
   "cell_type": "code",
   "execution_count": 18,
   "metadata": {},
   "outputs": [],
   "source": [
    "PREDS_PATH_IMGS = PREDS_PATH / 'images'\n",
    "PREDS_PATH_IMGS.mkdir(exist_ok=True)\n",
    "img_numpy = predictor.correct_orientations_from_df(pred_df, \n",
    "                                                   TEST_PATH_IMGS,\n",
    "                                                   PREDS_PATH_IMGS,\n",
    "                                                   output_numpy=True)"
   ]
  },
  {
   "cell_type": "code",
   "execution_count": 19,
   "metadata": {},
   "outputs": [
    {
     "data": {
      "text/plain": [
       "(5361, 64, 64, 3)"
      ]
     },
     "execution_count": 19,
     "metadata": {},
     "output_type": "execute_result"
    }
   ],
   "source": [
    "img_numpy.shape"
   ]
  },
  {
   "cell_type": "code",
   "execution_count": 20,
   "metadata": {},
   "outputs": [],
   "source": [
    "np.save(PREDS_PATH / 'corrected_images.npy', img_numpy)\n",
    "del img_numpy"
   ]
  },
  {
   "cell_type": "code",
   "execution_count": 21,
   "metadata": {},
   "outputs": [
    {
     "name": "stdout",
     "output_type": "stream",
     "text": [
      "DONE!\n"
     ]
    }
   ],
   "source": [
    "print('DONE!')"
   ]
  }
 ],
 "metadata": {
  "kernelspec": {
   "display_name": "DeeperSystems",
   "language": "python",
   "name": "deepersystems"
  },
  "language_info": {
   "codemirror_mode": {
    "name": "ipython",
    "version": 3
   },
   "file_extension": ".py",
   "mimetype": "text/x-python",
   "name": "python",
   "nbconvert_exporter": "python",
   "pygments_lexer": "ipython3",
   "version": "3.7.5"
  }
 },
 "nbformat": 4,
 "nbformat_minor": 2
}
